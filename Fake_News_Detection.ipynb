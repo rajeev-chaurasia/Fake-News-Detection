{
 "cells": [
  {
   "cell_type": "code",
   "execution_count": 1,
   "id": "c0a41217-99af-421c-87c8-17da6ca8bc8b",
   "metadata": {},
   "outputs": [],
   "source": [
    "# Import Pandas\n",
    "import pandas as pd"
   ]
  },
  {
   "cell_type": "code",
   "execution_count": 3,
   "id": "7357eabc-86a0-47ee-99bc-07dfb91b8600",
   "metadata": {},
   "outputs": [],
   "source": [
    "# Load the datasets\n",
    "fake = pd.read_csv(\"data/Fake.csv\")\n",
    "true = pd.read_csv(\"data/True.csv\")"
   ]
  },
  {
   "cell_type": "code",
   "execution_count": 4,
   "id": "9e909771-02d1-41b1-9580-438708a46520",
   "metadata": {},
   "outputs": [
    {
     "name": "stdout",
     "output_type": "stream",
     "text": [
      "Fake dataset rows: 23481\n",
      "True dataset rows: 21417\n"
     ]
    }
   ],
   "source": [
    "# Check row counts\n",
    "print(\"Fake dataset rows:\", len(fake))\n",
    "print(\"True dataset rows:\", len(true))"
   ]
  },
  {
   "cell_type": "code",
   "execution_count": 5,
   "id": "332e347c-2076-407c-92a9-025534631f86",
   "metadata": {},
   "outputs": [
    {
     "name": "stdout",
     "output_type": "stream",
     "text": [
      "Fake columns: ['title', 'text', 'subject', 'date']\n",
      "True columns: ['title', 'text', 'subject', 'date']\n"
     ]
    }
   ],
   "source": [
    "# Check column names\n",
    "print(\"Fake columns:\", fake.columns.tolist())\n",
    "print(\"True columns:\", true.columns.tolist())"
   ]
  },
  {
   "cell_type": "code",
   "execution_count": 6,
   "id": "bad9c289-4f82-49c6-a1ca-3384a82495a4",
   "metadata": {},
   "outputs": [],
   "source": [
    "# Add label column\n",
    "fake['label'] = 0  # Fake = 0\n",
    "true['label'] = 1"
   ]
  },
  {
   "cell_type": "code",
   "execution_count": 7,
   "id": "0a1b9352-f1a9-4271-899f-4d32577b7a8f",
   "metadata": {},
   "outputs": [],
   "source": [
    "# Merge the datasets\n",
    "df = pd.concat([fake, true], ignore_index=True)\n",
    "\n",
    "# Save the merged dataset\n",
    "df.to_csv(\"data/news_dataset.csv\", index=False)"
   ]
  },
  {
   "cell_type": "code",
   "execution_count": 8,
   "id": "bb204ad1-23dd-4e67-9753-a7e683e7afdf",
   "metadata": {},
   "outputs": [
    {
     "name": "stdout",
     "output_type": "stream",
     "text": [
      "Total rows after merge: 44898\n",
      "Label distribution:\n",
      " label\n",
      "0    23481\n",
      "1    21417\n",
      "Name: count, dtype: int64\n"
     ]
    }
   ],
   "source": [
    "# Verify the merge\n",
    "print(\"Total rows after merge:\", len(df))\n",
    "print(\"Label distribution:\\n\", df['label'].value_counts())"
   ]
  },
  {
   "cell_type": "code",
   "execution_count": 9,
   "id": "bb1d37f9-c9d7-4f1a-b822-e16ce1baac8f",
   "metadata": {},
   "outputs": [
    {
     "name": "stdout",
     "output_type": "stream",
     "text": [
      "Missing values:\n",
      " title      0\n",
      "text       0\n",
      "subject    0\n",
      "date       0\n",
      "label      0\n",
      "dtype: int64\n",
      "\n",
      "Sample of merged dataset:\n",
      "                                                title  \\\n",
      "0   Donald Trump Sends Out Embarrassing New Year’...   \n",
      "1   Drunk Bragging Trump Staffer Started Russian ...   \n",
      "2   Sheriff David Clarke Becomes An Internet Joke...   \n",
      "3   Trump Is So Obsessed He Even Has Obama’s Name...   \n",
      "4   Pope Francis Just Called Out Donald Trump Dur...   \n",
      "\n",
      "                                                text subject  label  \n",
      "0  Donald Trump just couldn t wish all Americans ...    News      0  \n",
      "1  House Intelligence Committee Chairman Devin Nu...    News      0  \n",
      "2  On Friday, it was revealed that former Milwauk...    News      0  \n",
      "3  On Christmas day, Donald Trump announced that ...    News      0  \n",
      "4  Pope Francis used his annual Christmas Day mes...    News      0  \n"
     ]
    }
   ],
   "source": [
    "# Check for missing values\n",
    "print(\"Missing values:\\n\", df.isnull().sum())\n",
    "\n",
    "# Look at a sample of 5 rows\n",
    "print(\"\\nSample of merged dataset:\\n\", df[['title', 'text', 'subject', 'label']].head(5))"
   ]
  },
  {
   "cell_type": "code",
   "execution_count": null,
   "id": "dcee2978-d5ba-4c74-a7be-fa51ef96ec52",
   "metadata": {},
   "outputs": [],
   "source": []
  }
 ],
 "metadata": {
  "kernelspec": {
   "display_name": "Python 3 (ipykernel)",
   "language": "python",
   "name": "python3"
  },
  "language_info": {
   "codemirror_mode": {
    "name": "ipython",
    "version": 3
   },
   "file_extension": ".py",
   "mimetype": "text/x-python",
   "name": "python",
   "nbconvert_exporter": "python",
   "pygments_lexer": "ipython3",
   "version": "3.13.2"
  }
 },
 "nbformat": 4,
 "nbformat_minor": 5
}
